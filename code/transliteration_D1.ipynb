{
 "cells": [
  {
   "cell_type": "markdown",
   "id": "1efc9f29-1f49-4706-83c4-533c13011fdc",
   "metadata": {},
   "source": [
    "# Translitertion"
   ]
  },
  {
   "cell_type": "markdown",
   "id": "c339a40a-4dd6-4a79-866a-5a8446c612cf",
   "metadata": {},
   "source": [
    "## Loading dependences"
   ]
  },
  {
   "cell_type": "code",
   "execution_count": 215,
   "id": "8be53362-619b-4d69-9745-43c3a7c52da5",
   "metadata": {},
   "outputs": [],
   "source": [
    "import torch\n",
    "import torch.nn as nn\n",
    "import torch.optim as optim\n",
    "from torch.autograd import Variable\n",
    "import torch.nn.functional as F\n",
    "from torch.utils.data import Dataset\n",
    "from sklearn.model_selection import train_test_split\n",
    "import pandas as pd\n",
    "import numpy as np\n",
    "import matplotlib.pyplot as plt\n",
    "import seaborn as sns\n",
    "import random\n",
    "import copy\n",
    "from IPython.display import clear_output"
   ]
  },
  {
   "cell_type": "markdown",
   "id": "86f82240-3cb0-4e27-bce8-9ef471c6c02c",
   "metadata": {},
   "source": [
    "## Preprocessing and Data Loading"
   ]
  },
  {
   "cell_type": "markdown",
   "id": "c862bcef-d955-4c13-a91c-a674ef652e05",
   "metadata": {},
   "source": [
    "### lookup tables for vocabulary"
   ]
  },
  {
   "cell_type": "code",
   "execution_count": 216,
   "id": "13165ab9-93d6-4f11-aa68-e6fc9f12a39e",
   "metadata": {},
   "outputs": [],
   "source": [
    "SPECIAL_TOKENS = {\n",
    "    '<PAD>': 0,     # Padding token - to equalize size of expressions\n",
    "}\n",
    "\n",
    "\n",
    "def lookup_table(vocabulary):\n",
    "    vocabulary = set(list(vocabulary))\n",
    "    v2i = copy.copy(SPECIAL_TOKENS)\n",
    "    for i, vocab in enumerate(vocabulary, len(SPECIAL_TOKENS)):\n",
    "        v2i[vocab] = i\n",
    "\n",
    "    i2v = {i:v for v, i in v2i.items()}\n",
    "    return v2i, i2v\n",
    "\n",
    "ENG = 'abcdefghijklmnopqrstuvwxyz'\n",
    "HIN = ''.join(c for c in [chr(alpha) for alpha in range(2304, 2432)])\n",
    "\n",
    "hin_v2i, hin_i2v = lookup_table(HIN)\n",
    "eng_v2i, eng_i2v = lookup_table(ENG)"
   ]
  },
  {
   "cell_type": "code",
   "execution_count": 217,
   "id": "efccc662-043a-41d9-88d7-fe072f2d1d64",
   "metadata": {},
   "outputs": [
    {
     "name": "stdout",
     "output_type": "stream",
     "text": [
      "{'<PAD>': 0, 'c': 1, 'j': 2, 'r': 3, 'x': 4, 'v': 5, 'w': 6, 'm': 7, 'z': 8, 'l': 9, 'u': 10, 'f': 11, 's': 12, 'n': 13, 'q': 14, 'h': 15, 'k': 16, 'y': 17, 'i': 18, 'd': 19, 't': 20, 'g': 21, 'b': 22, 'a': 23, 'o': 24, 'e': 25, 'p': 26}\n"
     ]
    }
   ],
   "source": [
    "print(eng_v2i)"
   ]
  },
  {
   "cell_type": "code",
   "execution_count": 218,
   "id": "4144c946-3b4f-4367-b2be-ba96480d1e58",
   "metadata": {},
   "outputs": [
    {
     "name": "stdout",
     "output_type": "stream",
     "text": [
      "{'<PAD>': 0, 'ऀ': 1, 'छ': 2, 'र': 3, 'ॗ': 4, 'ड़': 5, 'ब': 6, 'ॹ': 7, 'ग़': 8, 'ऑ': 9, 'औ': 10, 'ॕ': 11, 'ॐ': 12, '॒': 13, 'द': 14, 'ो': 15, 'ू': 16, 'ॵ': 17, 'च': 18, 'ृ': 19, 'ॉ': 20, 'ख़': 21, '८': 22, 'प': 23, 'ॎ': 24, 'ः': 25, 'ऐ': 26, 'ॆ': 27, '।': 28, '४': 29, 'ष': 30, 'अ': 31, 'ऱ': 32, 'भ': 33, 'ड': 34, '६': 35, 'ॶ': 36, 'ठ': 37, 'ग': 38, 'ऽ': 39, 'फ़': 40, 'ॴ': 41, 'आ': 42, 'ॊ': 43, 'ॲ': 44, 'ल': 45, 'ऴ': 46, 'य़': 47, 'ॠ': 48, 'क़': 49, 'ए': 50, '३': 51, 'ँ': 52, 'ॖ': 53, 'ख': 54, '९': 55, '७': 56, 'ओ': 57, 'थ': 58, 'ङ': 59, 'ळ': 60, '१': 61, 'े': 62, '०': 63, 'ॺ': 64, 'ञ': 65, '॥': 66, 'इ': 67, 'ऍ': 68, 'ॾ': 69, '॓': 70, 'ऌ': 71, '॔': 72, 'ऄ': 73, 'ट': 74, 'ऻ': 75, 'ज़': 76, 'झ': 77, 'ध': 78, 'ॄ': 79, 'ै': 80, 'ऒ': 81, 'ज': 82, 'फ': 83, 'ऎ': 84, 'ऋ': 85, '॑': 86, 'ढ़': 87, 'त': 88, 'श': 89, '़': 90, 'ु': 91, 'व': 92, 'क': 93, 'उ': 94, 'ॅ': 95, 'ि': 96, 'ॳ': 97, 'ॷ': 98, 'ॣ': 99, '॰': 100, '२': 101, 'ह': 102, 'ऊ': 103, '्': 104, 'य': 105, 'ई': 106, 'ॼ': 107, 'घ': 108, 'ॽ': 109, 'ी': 110, 'ढ': 111, 'ॿ': 112, 'ौ': 113, 'स': 114, 'म': 115, 'ॻ': 116, 'ॱ': 117, 'ॸ': 118, 'ऺ': 119, 'ॡ': 120, 'ॏ': 121, 'न': 122, '५': 123, 'ं': 124, 'ऩ': 125, 'ॢ': 126, 'ण': 127, 'ा': 128}\n"
     ]
    }
   ],
   "source": [
    "print(hin_v2i)"
   ]
  },
  {
   "cell_type": "markdown",
   "id": "d8e5d5fe-854e-4191-a5d3-c3ce1b7eb56b",
   "metadata": {},
   "source": [
    "### Loading Dataset"
   ]
  },
  {
   "cell_type": "code",
   "execution_count": 219,
   "id": "536144de-d31c-4cc4-bc4b-7a00af42ebb7",
   "metadata": {},
   "outputs": [
    {
     "name": "stdout",
     "output_type": "stream",
     "text": [
      "(30823, 2)\n"
     ]
    }
   ],
   "source": [
    "dataset = pd.read_csv('transliteration.txt', delimiter='\\t', encoding='utf-8', na_filter=False, header=None)\n",
    "print(dataset.shape)\n",
    "ENG_WORDS = dataset.iloc[:, 0].to_numpy()\n",
    "HIN_WORDS = dataset.iloc[:, 1].to_numpy()"
   ]
  },
  {
   "cell_type": "code",
   "execution_count": 220,
   "id": "b1e599ad-c269-4ff7-8cc1-616f928ec88e",
   "metadata": {},
   "outputs": [
    {
     "name": "stdout",
     "output_type": "stream",
     "text": [
      "khushbuu खुशबू\n"
     ]
    }
   ],
   "source": [
    "print(ENG_WORDS[1], HIN_WORDS[1])"
   ]
  },
  {
   "cell_type": "code",
   "execution_count": 221,
   "id": "150a0aaa-6820-4c91-a5da-1f9f36256b46",
   "metadata": {},
   "outputs": [
    {
     "name": "stdout",
     "output_type": "stream",
     "text": [
      "24658 6165\n"
     ]
    }
   ],
   "source": [
    "ENG_TRAIN, ENG_TEST, HIN_TRAIN, HIN_TEST = train_test_split( ENG_WORDS,HIN_WORDS,  test_size=0.20)\n",
    "print(len(HIN_TRAIN), len(HIN_TEST))"
   ]
  },
  {
   "cell_type": "markdown",
   "id": "3cb585b6-ecff-4cf4-a61a-0d94fdc375f3",
   "metadata": {},
   "source": [
    "### DataLoader"
   ]
  },
  {
   "cell_type": "code",
   "execution_count": 250,
   "id": "9661efd1-b7d7-44d8-92c6-315cdd589cd8",
   "metadata": {},
   "outputs": [],
   "source": [
    "class DataLoader(Dataset):\n",
    "  def __init__(self, hindi , english):\n",
    "    self.eng_words = english\n",
    "    self.hin_words = hindi\n",
    "    self.shuffle_indices = list(range(len(self.hin_words)))\n",
    "    self.shuffle_start_idx = 0\n",
    "    random.shuffle(self.shuffle_indices)\n",
    "\n",
    "  def __len__(self):\n",
    "    return len(self.eng_words)\n",
    "\n",
    "  def __getitem__(self, idx):\n",
    "    return self.eng_words[idx], self.hin_words[idx]\n",
    "\n",
    "  def get_random_sample(self):\n",
    "    return self.__getitem__(np.random.randint(len(self.eng_words)))\n",
    "\n",
    "  def get_array_batch(self, BATCH_SIZE, arr):\n",
    "    end = self.shuffle_start_idx + BATCH_SIZE\n",
    "    batch = []\n",
    "    if end >= len(self.eng_words):\n",
    "      \n",
    "      batch = [arr[i] for i in self.shuffle_indices[0:end%len(self.eng_words)]]\n",
    "      end = len(self.eng_words)\n",
    "    return batch + [arr[i] for i in self.shuffle_indices[self.shuffle_start_idx : end]]\n",
    "\n",
    "  def get_batches(self, BATCH_SIZE):\n",
    "    hin_batch = self.get_array_batch(BATCH_SIZE, self.hin_words)\n",
    "    eng_batch = self.get_array_batch(BATCH_SIZE, self.eng_words)\n",
    "    self.shuffle_start_idx += BATCH_SIZE + 1\n",
    "\n",
    "    # Reshuffle\n",
    "    if self.shuffle_start_idx >= len(self.eng_words):\n",
    "      random.shuffle(self.shuffle_indices)\n",
    "      self.shuffle_start_idx = 0\n",
    "\n",
    "    return eng_batch , hin_batch\n"
   ]
  },
  {
   "cell_type": "code",
   "execution_count": 251,
   "id": "6358454c-bede-4476-99ee-08c487bf4eed",
   "metadata": {},
   "outputs": [],
   "source": [
    "train_data = DataLoader(HIN_TRAIN , ENG_TRAIN)\n",
    "test_data = DataLoader(HIN_TEST , ENG_TEST)"
   ]
  },
  {
   "cell_type": "code",
   "execution_count": 252,
   "id": "4318f6c5-488c-48e4-801a-0b08e9eac74d",
   "metadata": {},
   "outputs": [
    {
     "data": {
      "text/plain": [
       "array(['marazi', 'bis', 'banduuk', ..., 'tumheen', 'sah', 'tap'],\n",
       "      dtype=object)"
      ]
     },
     "execution_count": 252,
     "metadata": {},
     "output_type": "execute_result"
    }
   ],
   "source": [
    "HIN_TEST\n",
    "ENG_TEST"
   ]
  },
  {
   "cell_type": "markdown",
   "id": "ff4358ce-add3-4ae6-bf89-7c804f7e98c9",
   "metadata": {},
   "source": [
    "### Word encoding"
   ]
  },
  {
   "cell_type": "code",
   "execution_count": 253,
   "id": "26a6b5c3-6892-4bb2-9b9d-98be14ba0627",
   "metadata": {},
   "outputs": [],
   "source": [
    "def hindi_encoding(word, v2i, device='cpu'):\n",
    "  rep = torch.zeros([len(word)+1, 1], dtype=torch.long).to(device)\n",
    "  for i, char in enumerate(word):\n",
    "    pos = v2i[char]\n",
    "    rep[i][0] = pos\n",
    "  rep[i+1][0] = v2i['<PAD>']\n",
    "  return rep\n"
   ]
  },
  {
   "cell_type": "code",
   "execution_count": 254,
   "id": "8a164d33-1fcc-43e9-b7a8-9da95f579d3f",
   "metadata": {},
   "outputs": [],
   "source": [
    "def eng_encoding(word, v2i, device='cpu'):\n",
    "  rep = torch.zeros(len(word)+1, 1, len(v2i)).to(device)\n",
    "  for i, char in enumerate(word):\n",
    "    pos = v2i[char]\n",
    "    rep[i][0][pos] = 1\n",
    "\n",
    "  pad_pos = v2i['<PAD>']\n",
    "  rep[i+1][0][pad_pos] = 1\n",
    "  return rep\n"
   ]
  },
  {
   "cell_type": "code",
   "execution_count": 255,
   "id": "04c22081-73d7-45da-b832-99d2a4d15dfa",
   "metadata": {},
   "outputs": [],
   "source": [
    "eng , hindi = train_data.get_random_sample()"
   ]
  },
  {
   "cell_type": "code",
   "execution_count": 256,
   "id": "92f23f78-64a6-4e41-ba1f-cc94a6e2c76f",
   "metadata": {
    "tags": []
   },
   "outputs": [
    {
     "name": "stdout",
     "output_type": "stream",
     "text": [
      "बेकरारी tensor([[  6],\n",
      "        [ 62],\n",
      "        [ 93],\n",
      "        [  3],\n",
      "        [128],\n",
      "        [  3],\n",
      "        [110],\n",
      "        [  0]])\n"
     ]
    }
   ],
   "source": [
    "print(hindi, hindi_encoding(hindi, hin_v2i))"
   ]
  },
  {
   "cell_type": "code",
   "execution_count": 257,
   "id": "3e139f0e-51c0-491a-88a2-bc491723e62d",
   "metadata": {},
   "outputs": [
    {
     "data": {
      "text/plain": [
       "torch.Size([8, 1])"
      ]
     },
     "execution_count": 257,
     "metadata": {},
     "output_type": "execute_result"
    }
   ],
   "source": [
    "hindi_encoding(hindi, hin_v2i).shape"
   ]
  },
  {
   "cell_type": "code",
   "execution_count": 259,
   "id": "1d26c5db-adb5-43b5-acc8-ef5fa10409fe",
   "metadata": {
    "collapsed": true,
    "jupyter": {
     "outputs_hidden": true
    },
    "tags": []
   },
   "outputs": [
    {
     "name": "stdout",
     "output_type": "stream",
     "text": [
      "bekaraari enoded form: \n",
      " tensor([[[0., 0., 0., 0., 0., 0., 0., 0., 0., 0., 0., 0., 0., 0., 0., 0., 0.,\n",
      "          0., 0., 0., 0., 0., 1., 0., 0., 0., 0.]],\n",
      "\n",
      "        [[0., 0., 0., 0., 0., 0., 0., 0., 0., 0., 0., 0., 0., 0., 0., 0., 0.,\n",
      "          0., 0., 0., 0., 0., 0., 0., 0., 1., 0.]],\n",
      "\n",
      "        [[0., 0., 0., 0., 0., 0., 0., 0., 0., 0., 0., 0., 0., 0., 0., 0., 1.,\n",
      "          0., 0., 0., 0., 0., 0., 0., 0., 0., 0.]],\n",
      "\n",
      "        [[0., 0., 0., 0., 0., 0., 0., 0., 0., 0., 0., 0., 0., 0., 0., 0., 0.,\n",
      "          0., 0., 0., 0., 0., 0., 1., 0., 0., 0.]],\n",
      "\n",
      "        [[0., 0., 0., 1., 0., 0., 0., 0., 0., 0., 0., 0., 0., 0., 0., 0., 0.,\n",
      "          0., 0., 0., 0., 0., 0., 0., 0., 0., 0.]],\n",
      "\n",
      "        [[0., 0., 0., 0., 0., 0., 0., 0., 0., 0., 0., 0., 0., 0., 0., 0., 0.,\n",
      "          0., 0., 0., 0., 0., 0., 1., 0., 0., 0.]],\n",
      "\n",
      "        [[0., 0., 0., 0., 0., 0., 0., 0., 0., 0., 0., 0., 0., 0., 0., 0., 0.,\n",
      "          0., 0., 0., 0., 0., 0., 1., 0., 0., 0.]],\n",
      "\n",
      "        [[0., 0., 0., 1., 0., 0., 0., 0., 0., 0., 0., 0., 0., 0., 0., 0., 0.,\n",
      "          0., 0., 0., 0., 0., 0., 0., 0., 0., 0.]],\n",
      "\n",
      "        [[0., 0., 0., 0., 0., 0., 0., 0., 0., 0., 0., 0., 0., 0., 0., 0., 0.,\n",
      "          0., 1., 0., 0., 0., 0., 0., 0., 0., 0.]],\n",
      "\n",
      "        [[1., 0., 0., 0., 0., 0., 0., 0., 0., 0., 0., 0., 0., 0., 0., 0., 0.,\n",
      "          0., 0., 0., 0., 0., 0., 0., 0., 0., 0.]]])\n"
     ]
    }
   ],
   "source": [
    "print(eng , eng_encoding(eng, eng_v2i))"
   ]
  },
  {
   "cell_type": "code",
   "execution_count": null,
   "id": "d710a8fc-9fcf-4573-8799-5394b77375ff",
   "metadata": {},
   "outputs": [],
   "source": [
    "eng_encoding(eng, eng_v2i).shape"
   ]
  },
  {
   "cell_type": "markdown",
   "id": "a130efad-007d-41af-b868-62e1b41508e5",
   "metadata": {},
   "source": [
    "## Model: Encoder decoder with Attention"
   ]
  },
  {
   "cell_type": "code",
   "execution_count": 261,
   "id": "f7f7e28e-5cd6-4dae-a475-eb312f3d7e94",
   "metadata": {},
   "outputs": [],
   "source": [
    "class Encoder_Decoder(nn.Module):\n",
    "  def __init__(self, input_size, hidden_size, output_size, verbose=False):\n",
    "    super(Encoder_Decoder, self).__init__()\n",
    "    self.hidden_size = hidden_size\n",
    "    self.output_size = output_size\n",
    "    self.encoder_rnn = nn.GRU(input_size, hidden_size)\n",
    "    self.decoder_rnn = nn.GRU(hidden_size*2, hidden_size)\n",
    "    self.hidden_to_output = nn.Linear(hidden_size, output_size)\n",
    "    self.softmax = nn.LogSoftmax(dim=2)\n",
    "    self.U = nn.Linear(self.hidden_size, self.hidden_size)\n",
    "    self.W = nn.Linear(self.hidden_size, self.hidden_size)\n",
    "    self.attention = nn.Linear(self.hidden_size, 1)\n",
    "    self.output_to_hidden = nn.Linear(self.output_size, self.hidden_size)\n",
    "    self.verbose = verbose\n",
    "\n",
    "\n",
    "  def forward(self, input, max_output_chars = 30, device='cpu', ground_truth = None):\n",
    "        \n",
    "        # encoder\n",
    "        encoder_outputs, hidden = self.encoder_rnn(input)\n",
    "        encoder_outputs = encoder_outputs.view(-1, self.hidden_size)\n",
    "        \n",
    "        if self.verbose:\n",
    "            print('Encoder output', encoder_outputs.shape)\n",
    "        \n",
    "        # decoder\n",
    "        decoder_state = hidden\n",
    "        decoder_input = torch.zeros(1, 1, self.output_size).to(device)\n",
    "        \n",
    "        outputs = []\n",
    "        U = self.U(encoder_outputs)\n",
    "        \n",
    "        if self.verbose:\n",
    "            print('Decoder state', decoder_state.shape)\n",
    "            print('Decoder intermediate input', decoder_input.shape)\n",
    "            print('U * Encoder output', U.shape)\n",
    "        \n",
    "        for i in range(max_output_chars):\n",
    "            \n",
    "            W = self.W(decoder_state.view(1, -1).repeat(encoder_outputs.shape[0], 1))\n",
    "            V = self.attention(torch.tanh(U + W))\n",
    "            attention_weights = F.softmax(V.view(1, -1), dim = 1) \n",
    "            \n",
    "            if self.verbose:\n",
    "                print('W * Decoder state', W.shape)\n",
    "                print('V', V.shape)\n",
    "                print('Attention', attention_weights.shape)\n",
    "            \n",
    "            attention_applied = torch.bmm(attention_weights.unsqueeze(0),\n",
    "                                 encoder_outputs.unsqueeze(0))\n",
    "            \n",
    "            embedding = self.output_to_hidden(decoder_input)\n",
    "            decoder_input = torch.cat((embedding[0], attention_applied[0]), 1).unsqueeze(0)\n",
    "            \n",
    "            if self.verbose:\n",
    "                print('Attention LC', attention_applied.shape)\n",
    "                print('Decoder input', decoder_input.shape)\n",
    "                \n",
    "            out, decoder_state = self.decoder_rnn(decoder_input, decoder_state)\n",
    "            if self.verbose:\n",
    "                print('Decoder intermediate output', out.shape)\n",
    "                \n",
    "            out = self.hidden_to_output(decoder_state)\n",
    "            out = self.softmax(out)\n",
    "            outputs.append(out.view(1, -1))\n",
    "            \n",
    "            if self.verbose:\n",
    "                print('Decoder output', out.shape)\n",
    "                self.verbose = False\n",
    "            \n",
    "            max_idx = torch.argmax(out, 2, keepdim=True)\n",
    "            if not ground_truth is None:\n",
    "                max_idx = ground_truth[i].reshape(1, 1, 1)\n",
    "            one_hot = torch.zeros(out.shape, device=device)\n",
    "            one_hot.scatter_(2, max_idx, 1) \n",
    "            \n",
    "            decoder_input = one_hot.detach()\n",
    "            \n",
    "        return outputs"
   ]
  },
  {
   "cell_type": "code",
   "execution_count": 262,
   "id": "8b30eed7-26e5-45f6-ba8f-247cca6ba3c9",
   "metadata": {},
   "outputs": [],
   "source": [
    "enc_dec = Encoder_Decoder( len(eng_v2i),256, len(hin_v2i), True)"
   ]
  },
  {
   "cell_type": "code",
   "execution_count": 263,
   "id": "3c0c5f93-0460-4d52-b3c0-bd027d44fb23",
   "metadata": {},
   "outputs": [
    {
     "data": {
      "text/plain": [
       "<bound method Module.get_parameter of Encoder_Decoder(\n",
       "  (encoder_rnn): GRU(27, 256)\n",
       "  (decoder_rnn): GRU(512, 256)\n",
       "  (hidden_to_output): Linear(in_features=256, out_features=129, bias=True)\n",
       "  (softmax): LogSoftmax(dim=2)\n",
       "  (U): Linear(in_features=256, out_features=256, bias=True)\n",
       "  (W): Linear(in_features=256, out_features=256, bias=True)\n",
       "  (attention): Linear(in_features=256, out_features=1, bias=True)\n",
       "  (output_to_hidden): Linear(in_features=129, out_features=256, bias=True)\n",
       ")>"
      ]
     },
     "execution_count": 263,
     "metadata": {},
     "output_type": "execute_result"
    }
   ],
   "source": [
    "enc_dec.get_parameter"
   ]
  },
  {
   "cell_type": "markdown",
   "id": "cc8c5b93-948d-44bc-8fdb-e5ea754272d3",
   "metadata": {},
   "source": [
    "## Training"
   ]
  },
  {
   "cell_type": "code",
   "execution_count": 266,
   "id": "425993c1-cb5f-4845-b119-09ff30a92d31",
   "metadata": {},
   "outputs": [],
   "source": [
    "def train(model, optimizer, criterion, BATCH_SIZE, device='cpu', force=False):\n",
    "  model.train().to(device)\n",
    "  optimizer.zero_grad()\n",
    "  eng_batch , hin_batch = train_data.get_batches(BATCH_SIZE)\n",
    "  total_loss = 0\n",
    "  for i in range(BATCH_SIZE):\n",
    "    \n",
    "    input_ = eng_encoding(eng_batch[i], eng_v2i, device)\n",
    "    hind_ = hindi_encoding(hin_batch[i], hin_v2i, device)\n",
    "    \n",
    "    \n",
    "    \n",
    "    outputs = model.forward(input_, hind_.shape[0], device, ground_truth=hind_ if force else None)\n",
    "    for i, output in enumerate(outputs):\n",
    "      loss = criterion(output, hind_[i]) / BATCH_SIZE\n",
    "      loss.backward(retain_graph=True)\n",
    "      total_loss += loss\n",
    "\n",
    "  optimizer.step()\n",
    "  return total_loss / BATCH_SIZE\n"
   ]
  },
  {
   "cell_type": "code",
   "execution_count": 267,
   "id": "80882db6-2c99-46cb-a18d-7b0e410f228e",
   "metadata": {},
   "outputs": [],
   "source": [
    "def setup(model, LEARNING_RATE=0.01, NUM_BATCHES=10, BATCH_SIZE=10, DISPLAY_STEP=5, device='cpu', e=256):\n",
    "   model = model.to(device)\n",
    "   criterion = nn.NLLLoss(ignore_index=-1)\n",
    "   optimizer = optim.Adam(model.parameters(), lr=LEARNING_RATE)\n",
    "   force_upto = NUM_BATCHES // 3\n",
    "   loss_arr = np.zeros(NUM_BATCHES+1)\n",
    "\n",
    "   for i in range(NUM_BATCHES):\n",
    "     loss_arr[i+1] = (loss_arr[i]*i + train(model, optimizer, criterion, BATCH_SIZE, device=device, force=i<force_upto))/(i+1)\n",
    "\n",
    "     if i % DISPLAY_STEP == DISPLAY_STEP-1:\n",
    "       clear_output(wait=True)\n",
    "       print('Iteration', i, 'Loss', loss_arr[i])\n",
    "       plt.figure(figsize=(12,6))\n",
    "       plt.plot(loss_arr[1:i])\n",
    "       plt.xlabel('Iterations')\n",
    "       plt.ylabel('Loss')\n",
    "       plt.show()\n",
    "   return loss_arr"
   ]
  },
  {
   "cell_type": "code",
   "execution_count": 271,
   "id": "964c8de3-680a-4882-9afd-44fb3cb0fb37",
   "metadata": {},
   "outputs": [],
   "source": [
    "enc_dec = Encoder_Decoder(len(eng_v2i) ,256 ,  len(hin_v2i) )"
   ]
  },
  {
   "cell_type": "code",
   "execution_count": 274,
   "id": "02c3b528-e3ea-481c-8cc9-700e0c612bab",
   "metadata": {},
   "outputs": [
    {
     "name": "stdout",
     "output_type": "stream",
     "text": [
      "Iteration 99 Loss 0.21607725322246552\n"
     ]
    },
    {
     "data": {
      "image/png": "[encoded data removed]",
      "text/plain": [
       "<Figure size 864x432 with 1 Axes>"
      ]
     },
     "metadata": {
      "needs_background": "light"
     },
     "output_type": "display_data"
    }
   ],
   "source": [
    "loss = setup(enc_dec, LEARNING_RATE=0.01, NUM_BATCHES=100, BATCH_SIZE=64, DISPLAY_STEP=10, e=256)"
   ]
  },
  {
   "cell_type": "markdown",
   "id": "22d319f3-fd12-488c-856d-69f6d604b96b",
   "metadata": {},
   "source": [
    "## Save model"
   ]
  },
  {
   "cell_type": "code",
   "execution_count": 280,
   "id": "d4d260a3-6a06-46d6-9cb4-adb14da989cc",
   "metadata": {},
   "outputs": [],
   "source": [
    "torch.save(enc_dec ,  f'model1__lr_0.01_nb=100_bs=64_e=256.pt')"
   ]
  },
  {
   "cell_type": "markdown",
   "id": "26f15954-c709-4a27-a00b-189d8db4a2a2",
   "metadata": {},
   "source": [
    "### Accuracy"
   ]
  },
  {
   "cell_type": "code",
   "execution_count": 298,
   "id": "35e7fcd4-eafd-4d6a-89f4-58d8e72e72ef",
   "metadata": {},
   "outputs": [],
   "source": [
    "def accuracy(model, device='cpu'):\n",
    "  model = model.eval().to(device)\n",
    "  preds = []\n",
    "  acc = 0\n",
    "  for i in range(len(test_data)):\n",
    "    english, hindi = test_data[i]\n",
    "    \n",
    "    hind_ = hindi_encoding(hindi, hin_v2i, device)\n",
    "\n",
    "    \n",
    "    outputs = get_output(model, english, hind_.shape[0], device)\n",
    "    \n",
    "    predicted_correctly = 0\n",
    "    for i, output in enumerate(outputs):\n",
    "      values, indices = output.topk(1)\n",
    "      hind_pos = indices.tolist()[0]\n",
    "        \n",
    "      if hind_pos[0] == hind_[i][0]:\n",
    "        predicted_correctly += 1\n",
    "\n",
    "    acc += predicted_correctly / hind_.shape[0]\n",
    "  acc /= len(test_data)\n",
    "  return acc"
   ]
  },
  {
   "cell_type": "markdown",
   "id": "4a6c631d-f7bf-45ea-a9fa-a0e6387b0fd1",
   "metadata": {},
   "source": [
    "### loading model"
   ]
  },
  {
   "cell_type": "code",
   "execution_count": 286,
   "id": "a381dcbf-8f8e-4572-9f17-5d16c6250b53",
   "metadata": {},
   "outputs": [
    {
     "name": "stdout",
     "output_type": "stream",
     "text": [
      "Accuracy: 60.39542043070043\n"
     ]
    }
   ],
   "source": [
    "m1 = torch.load('model1__lr_0.01_nb=100_bs=64_e=256.pt')\n",
    "print(\"Accuracy:\", accuracy(m1)*100)"
   ]
  }
 ],
 "metadata": {
  "kernelspec": {
   "display_name": "Python 3",
   "language": "python",
   "name": "python3"
  },
  "language_info": {
   "codemirror_mode": {
    "name": "ipython",
    "version": 3
   },
   "file_extension": ".py",
   "mimetype": "text/x-python",
   "name": "python",
   "nbconvert_exporter": "python",
   "pygments_lexer": "ipython3",
   "version": "3.8.8"
  }
 },
 "nbformat": 4,
 "nbformat_minor": 5
}
